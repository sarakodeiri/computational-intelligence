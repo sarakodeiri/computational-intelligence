{
 "cells": [
  {
   "cell_type": "markdown",
   "metadata": {
    "id": "heBxPYfc0U22"
   },
   "source": [
    "# Your info\n",
    "\n",
    "Full name: Sara Kodeiri\n",
    "\n",
    "Student ID: 96521443"
   ]
  },
  {
   "cell_type": "markdown",
   "metadata": {
    "id": "AJU-9zasc1D6"
   },
   "source": [
    "Notice: **You can add new cells for each part.**"
   ]
  },
  {
   "cell_type": "markdown",
   "metadata": {
    "id": "UBD007b3-ntJ"
   },
   "source": [
    "# Q1"
   ]
  },
  {
   "cell_type": "code",
   "execution_count": 1,
   "metadata": {
    "id": "rld-5wsb1gZS"
   },
   "outputs": [
    {
     "name": "stdout",
     "output_type": "stream",
     "text": [
      "['4', '6', '7', '5', '3', '2', '1'] 49\n"
     ]
    }
   ],
   "source": [
    "import math\n",
    "import random\n",
    "\n",
    "inf = math.inf\n",
    "distance_table = [[0, 12, 10, inf, inf, inf, 12],\n",
    "                  [12, 0, 8, 12, inf, inf, inf],\n",
    "                  [10, 8, 0, 11, 3, inf, 9],\n",
    "                  [inf, 12, 11, 0, 11, 10, inf],\n",
    "                  [inf, inf, 3, 11, 0, 6, 7],\n",
    "                  [inf, inf, inf, 10, 6, 0, 9],\n",
    "                  [12, inf, 9, inf, 7, 9, 0]]\n",
    "cities = \"1234567\"\n",
    "pop_size = 10\n",
    "elite_size = 4\n",
    "\n",
    "\n",
    "def initial_pop(pop_size, cities):\n",
    "    acceptable = False\n",
    "    population = []\n",
    "    while not acceptable:\n",
    "        for i in range(pop_size):\n",
    "            path = random.sample(cities, len(cities))\n",
    "            population.append(path)\n",
    "            if fitness(path) != inf:\n",
    "                acceptable = True\n",
    "    return population\n",
    "\n",
    "\n",
    "def fitness(individual):\n",
    "    global distance_table\n",
    "    path = 0\n",
    "    for i in range(len(individual) - 1):\n",
    "        from_city = int(individual[i]) - 1\n",
    "        to_city = int(individual[i + 1]) - 1\n",
    "        path += distance_table[from_city][to_city]\n",
    "    return path\n",
    "\n",
    "\n",
    "def rank_pop(population):\n",
    "    ranked_pop = []\n",
    "    for person in population:\n",
    "        ranked_pop.append((person, fitness(person)))\n",
    "    return list(sorted(ranked_pop, key=lambda x: x[1]))\n",
    "\n",
    "\n",
    "def selection(population, elite_size):\n",
    "    parents = []\n",
    "    chances = [(i[0], 1 / i[1]) for i in population]\n",
    "    sum_chances = sum([i[1] for i in chances])\n",
    "    cumulative_chances = [(i[0], sum([j[1] for j in chances[:chances.index(i) + 1]]) / sum_chances) for i in chances]\n",
    "    parents.extend([i[0] for i in population[:elite_size]])\n",
    "    for i in range(len(population) - elite_size):\n",
    "        chance = random.random()\n",
    "        for person in cumulative_chances:\n",
    "            if chance < person[1]:\n",
    "                parents.append(person[0])\n",
    "                break\n",
    "    return parents\n",
    "\n",
    "\n",
    "def crossover(parent1, parent2):\n",
    "    child = []\n",
    "    ind1 = int(random.random() * len(parent1))\n",
    "    ind2 = int(random.random() * len(parent1))\n",
    "    child.extend(parent1[min(ind1, ind2):max(ind1, ind2)])\n",
    "    child.extend([city for city in parent2 if city not in child])\n",
    "    return child\n",
    "\n",
    "\n",
    "def breed(parents, elite_size):\n",
    "    children = []\n",
    "    children.extend(parents[:elite_size])\n",
    "    shuffled_parents = random.sample(parents, len(parents))\n",
    "    for i in range(len(parents) - elite_size):\n",
    "        children.append(crossover(shuffled_parents[i], shuffled_parents[-i - 1]))\n",
    "    return children\n",
    "\n",
    "\n",
    "def mutate(individual, mutation_rate):\n",
    "    if random.random() < mutation_rate:\n",
    "        ind1 = int(random.random() * len(individual))\n",
    "        ind2 = int(random.random() * len(individual))\n",
    "        city1 = individual[ind1]\n",
    "        city2 = individual[ind2]\n",
    "        individual[ind1] = city2\n",
    "        individual[ind2] = city1\n",
    "    return individual\n",
    "\n",
    "\n",
    "def GA(cities, pop_size=30, elite_size=4, mutation_rate=0.1, generations=100):\n",
    "    population = initial_pop(pop_size, cities)\n",
    "    population = rank_pop(population)\n",
    "\n",
    "    for _ in range(generations):\n",
    "        parents = selection(population, elite_size)\n",
    "        children = breed(parents, elite_size)\n",
    "        for i in range(len(children)):\n",
    "            children[i] = mutate(children[i], mutation_rate)\n",
    "        population = rank_pop(children)\n",
    "\n",
    "    return population[0][0]\n",
    "\n",
    "\n",
    "path = GA(cities)\n",
    "print(path, fitness(path))"
   ]
  },
  {
   "cell_type": "markdown",
   "metadata": {
    "id": "IZSH8riLCDQi"
   },
   "source": [
    "# Q2"
   ]
  },
  {
   "cell_type": "code",
   "execution_count": 2,
   "metadata": {
    "id": "hWDE-iamebf8"
   },
   "outputs": [
    {
     "name": "stdout",
     "output_type": "stream",
     "text": [
      "4.884084091053166\n"
     ]
    }
   ],
   "source": [
    "import random\n",
    "\n",
    "population = []\n",
    "\n",
    "\n",
    "def fitness(x):\n",
    "    return abs(9 * x ** 5 - 194.7 * x ** 4 + 1680.1 * x ** 3 - 7227.94 * x ** 2 + 15501.2 * x - 13257.2)\n",
    "\n",
    "\n",
    "def initialize_population(pop_size=1000):\n",
    "    global population\n",
    "    population = []\n",
    "    for i in range(pop_size):\n",
    "        population.append(random.uniform(-10, 10))\n",
    "\n",
    "\n",
    "def sort_by_fitness():\n",
    "    global population\n",
    "    population.sort(key=fitness)\n",
    "\n",
    "\n",
    "def reproduce(parent1, parent2, range=10):\n",
    "    midpoint = random.randrange(1, range)\n",
    "    child1 = (parent1 * midpoint + parent2 * (range - midpoint)) / range\n",
    "    child2 = (parent2 * midpoint + parent1 * (range - midpoint)) / range\n",
    "    return child1, child2\n",
    "\n",
    "\n",
    "def crossover(c_range=10):\n",
    "    global population\n",
    "    for i in range(len(population) // 2):\n",
    "        x = population[2 * i]\n",
    "        y = population[2 * i + 1]\n",
    "        child1, child2 = reproduce(x, y, c_range)\n",
    "        population[2 * i] = child1\n",
    "        population[2 * i + 1] = child2\n",
    "\n",
    "\n",
    "def mutate(alpha):\n",
    "    global population\n",
    "    for i in range(len(population)):\n",
    "        if random.random() < alpha:\n",
    "            population[i] += random.uniform(-0.1, 0.1)\n",
    "\n",
    "\n",
    "def GA(pop_size=1000, threshold=0.000001, crossover_range=10, alpha=0.1):\n",
    "    initialize_population(pop_size)\n",
    "    sort_by_fitness()\n",
    "    generation = 0\n",
    "    while fitness(population[0]) > threshold:\n",
    "        crossover(crossover_range)\n",
    "        mutate(alpha)\n",
    "        sort_by_fitness()\n",
    "        generation += 1\n",
    "#     print(generation)\n",
    "    return population[0]\n",
    "\n",
    "\n",
    "\n",
    "print(GA())\n",
    "\n"
   ]
  },
  {
   "cell_type": "markdown",
   "metadata": {
    "id": "iRqYhKw1rgUp"
   },
   "source": [
    "# <font color='red'>Submission</font>\n",
    "\n",
    "1. Sign up in [Gradescope](https://www.gradescope.com) with proper name and student ID and use the following code to join the class: <font color='red'>**D5372R**</font>\n",
    "2. Fill in your full name (seperated by single spaces) and student ID in the beginning of this notebook.\n",
    "3. After you're done with this notebook, you should do the following:\n",
    "  - Clear all outputs of the notebook.\n",
    "  ![clear all outputs](https://i.ibb.co/y6FrttB/Screen-Shot-2021-03-21-at-01-51-42.png)\n",
    "  - Run all of the cells (if you skipped a question just leave the cell unchanged), and make sure all of your outputs are correct.\n",
    "  ![run all](https://i.ibb.co/cgRcBZ0/Screen-Shot-2021-03-21-at-01-54-58.png)\n",
    "  - Save your notebook.\n",
    "  \n",
    "  - If you're using Colab, download your notebook.\n",
    "  ![download ipynb](https://i.ibb.co/2KxYM6K/Screen-Shot-2021-03-21-at-02-03-50.png)\n",
    "  \n",
    "  - Put the notebook file you just downloaded and `convert.py` in the same folder run the following command:\n",
    "  ```bash\n",
    "  python convert.py\n",
    "  ```\n",
    "  This will export your code for each question into a `.py` file.\n",
    "   \n",
    "\n",
    "  according to the question number.\n",
    "  - There are 2 assignments in Gradescope: \n",
    "\n",
    "    You should upload your **codes** and your **notebook** in `HW4` section and your final report for all of the questions as a **single pdf** file in `HW4 - Report`. Autograder will automatically check for:\n",
    "    - `CI992_HW4.ipynb`\n",
    "    - `Q1 Q1.py`\n",
    "    - `Q2 Q2.py`\n",
    "    - Your name and ID in the beginning of `.ipynb` file.\n",
    "\n",
    "    It is important that you <font color='red'>**don't**</font> change the names of these files before submission.\n",
    "\n",
    "4. If you pass the autograder, you're good to go."
   ]
  },
  {
   "cell_type": "code",
   "execution_count": null,
   "metadata": {
    "id": "FnTVIJyyA8nJ"
   },
   "outputs": [],
   "source": []
  }
 ],
 "metadata": {
  "colab": {
   "collapsed_sections": [],
   "name": "CI992_HW4.ipynb",
   "provenance": [],
   "toc_visible": true
  },
  "kernelspec": {
   "display_name": "Python 3",
   "language": "python",
   "name": "python3"
  },
  "language_info": {
   "codemirror_mode": {
    "name": "ipython",
    "version": 3
   },
   "file_extension": ".py",
   "mimetype": "text/x-python",
   "name": "python",
   "nbconvert_exporter": "python",
   "pygments_lexer": "ipython3",
   "version": "3.8.5"
  }
 },
 "nbformat": 4,
 "nbformat_minor": 1
}
