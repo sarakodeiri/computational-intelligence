{
  "nbformat": 4,
  "nbformat_minor": 0,
  "metadata": {
    "colab": {
      "name": "CI992_HW1.ipynb",
      "provenance": [],
      "collapsed_sections": [],
      "toc_visible": true
    },
    "kernelspec": {
      "display_name": "Python 3",
      "language": "python",
      "name": "python3"
    },
    "language_info": {
      "codemirror_mode": {
        "name": "ipython",
        "version": 3
      },
      "file_extension": ".py",
      "mimetype": "text/x-python",
      "name": "python",
      "nbconvert_exporter": "python",
      "pygments_lexer": "ipython3",
      "version": "3.8.5"
    }
  },
  "cells": [
    {
      "cell_type": "markdown",
      "metadata": {
        "id": "heBxPYfc0U22"
      },
      "source": [
        "# Your info\n",
        "\n",
        "Full name: Sara Kodeiri\n",
        "\n",
        "Student ID: 96521443"
      ]
    },
    {
      "cell_type": "markdown",
      "metadata": {
        "id": "UBD007b3-ntJ"
      },
      "source": [
        "# Q1. Perceptron"
      ]
    },
    {
      "cell_type": "code",
      "metadata": {
        "id": "rld-5wsb1gZS"
      },
      "source": [
        "# Q1_graded\n",
        "# Do not change the above line.\n",
        "\n",
        "# This cell is for your imports.\n",
        "\n",
        "import numpy as np\n",
        "import matplotlib.pyplot as plt"
      ],
      "execution_count": 93,
      "outputs": []
    },
    {
      "cell_type": "code",
      "metadata": {
        "id": "PKs23FTj_SI8",
        "colab": {
          "base_uri": "https://localhost:8080/"
        },
        "outputId": "a2ccff2e-7df4-4387-bcd7-19d1849328e0"
      },
      "source": [
        "# Q1_graded\n",
        "# Do not change the above line.\n",
        "\n",
        "data = [[0,0,1], [1,0,0], [0,1,0], [1,1,0]]\n",
        "learning_rate = 0.1\n",
        "epoch_count = 5\n",
        "weights = 3 * [0]\n",
        "for epoch in range(epoch_count):\n",
        "  error_t = 0.0\n",
        "  for row in data:\n",
        "    activation = weights[2] * row[1] + weights[1] * row[0] + weights[0] + 1\n",
        "    prediction = 1 if activation >= 1 else 0\n",
        "    error = row[2] - prediction\n",
        "    error_t += error**2\n",
        "    weights[0] = weights[0] + learning_rate * error\n",
        "    weights[1] = weights[1] + learning_rate * error * row[0]\n",
        "    weights[2] = weights[2] + learning_rate * error * row[1]\n",
        "  print(\"Epoch:\", epoch, \"Error:\", error_t)\n",
        "\n",
        "print(weights)\n"
      ],
      "execution_count": 94,
      "outputs": [
        {
          "output_type": "stream",
          "text": [
            "Epoch: 0 Error: 1.0\n",
            "Epoch: 1 Error: 2.0\n",
            "Epoch: 2 Error: 1.0\n",
            "Epoch: 3 Error: 0.0\n",
            "Epoch: 4 Error: 0.0\n",
            "[0.0, -0.1, -0.1]\n"
          ],
          "name": "stdout"
        }
      ]
    },
    {
      "cell_type": "code",
      "metadata": {
        "id": "g5ISMYZ7_S2X"
      },
      "source": [
        "# Q1_graded\n",
        "# Do not change the above line.\n",
        "\n",
        "# This cell is for your codes."
      ],
      "execution_count": 95,
      "outputs": []
    },
    {
      "cell_type": "markdown",
      "metadata": {
        "id": "VAAR47H8-5ML"
      },
      "source": [
        "# Q2. Binary Classification"
      ]
    },
    {
      "cell_type": "code",
      "metadata": {
        "id": "LV7Xa2Sx-6cV"
      },
      "source": [
        "# Q2_graded\n",
        "# Do not change the above line.\n",
        "\n",
        "# This cell is for your imports.\n",
        "\n",
        "import numpy as np\n",
        "import matplotlib.pyplot as plt"
      ],
      "execution_count": 96,
      "outputs": []
    },
    {
      "cell_type": "code",
      "metadata": {
        "id": "WgSdhZkYvuCE"
      },
      "source": [
        "# Q2_graded\n",
        "\n",
        "file = open(\"/content/data.txt\",\"r+\")\n",
        "lines = file.readlines()\n",
        "data = []\n",
        "\n",
        "for line in lines:\n",
        "  line = line[:len(line) - 1]\n",
        "  list_ = line.split(\",\")\n",
        "  for i in range(len(list_)):\n",
        "    list_[i] = float(list_[i])\n",
        "  data.append(list_)\n"
      ],
      "execution_count": 97,
      "outputs": []
    },
    {
      "cell_type": "code",
      "metadata": {
        "id": "bMIDe8oc_TLW",
        "colab": {
          "base_uri": "https://localhost:8080/"
        },
        "outputId": "0f14eea8-2e86-4e35-8841-0e380cc1f7f1"
      },
      "source": [
        "# Q2_graded\n",
        "# Do not change the above line.\n",
        "\n",
        "learning_rate = 0.1\n",
        "epoch_count = 7000\n",
        "weights = 3 * [0]\n",
        "x_errplot = []\n",
        "y_errplot = []\n",
        "y_accplot = []\n",
        "for epoch in range(epoch_count):\n",
        "  error_t = 0\n",
        "  for row in data:\n",
        "    activation = weights[2] * row[1] + weights[1] * row[0] + weights[0] + 1\n",
        "    prediction = 1 if activation >= 1 else 0\n",
        "    error = row[2] - prediction\n",
        "    error_t += error**2\n",
        "    weights[0] = weights[0] + learning_rate * error\n",
        "    weights[1] = weights[1] + learning_rate * error * row[0]\n",
        "    weights[2] = weights[2] + learning_rate * error * row[1]\n",
        "  if epoch%100 == 0 or epoch == epoch_count - 1:\n",
        "    x_errplot.append(epoch)\n",
        "    y_errplot.append(error_t)\n",
        "    y_accplot.append(100 - error_t)\n",
        "    \n",
        "    print(\"Epoch:\", epoch, \"Error:\", error_t)\n",
        "\n",
        "print(weights)"
      ],
      "execution_count": 98,
      "outputs": [
        {
          "output_type": "stream",
          "text": [
            "Epoch: 0 Error: 57.0\n",
            "Epoch: 100 Error: 56.0\n",
            "Epoch: 200 Error: 53.0\n",
            "Epoch: 300 Error: 58.0\n",
            "Epoch: 400 Error: 53.0\n",
            "Epoch: 500 Error: 56.0\n",
            "Epoch: 600 Error: 56.0\n",
            "Epoch: 700 Error: 51.0\n",
            "Epoch: 800 Error: 51.0\n",
            "Epoch: 900 Error: 54.0\n",
            "Epoch: 1000 Error: 52.0\n",
            "Epoch: 1100 Error: 50.0\n",
            "Epoch: 1200 Error: 51.0\n",
            "Epoch: 1300 Error: 56.0\n",
            "Epoch: 1400 Error: 49.0\n",
            "Epoch: 1500 Error: 45.0\n",
            "Epoch: 1600 Error: 48.0\n",
            "Epoch: 1700 Error: 46.0\n",
            "Epoch: 1800 Error: 48.0\n",
            "Epoch: 1900 Error: 56.0\n",
            "Epoch: 2000 Error: 50.0\n",
            "Epoch: 2100 Error: 45.0\n",
            "Epoch: 2200 Error: 49.0\n",
            "Epoch: 2300 Error: 51.0\n",
            "Epoch: 2400 Error: 43.0\n",
            "Epoch: 2500 Error: 52.0\n",
            "Epoch: 2600 Error: 45.0\n",
            "Epoch: 2700 Error: 52.0\n",
            "Epoch: 2800 Error: 48.0\n",
            "Epoch: 2900 Error: 43.0\n",
            "Epoch: 3000 Error: 42.0\n",
            "Epoch: 3100 Error: 52.0\n",
            "Epoch: 3200 Error: 50.0\n",
            "Epoch: 3300 Error: 46.0\n",
            "Epoch: 3400 Error: 41.0\n",
            "Epoch: 3500 Error: 37.0\n",
            "Epoch: 3600 Error: 37.0\n",
            "Epoch: 3700 Error: 41.0\n",
            "Epoch: 3800 Error: 41.0\n",
            "Epoch: 3900 Error: 42.0\n",
            "Epoch: 4000 Error: 47.0\n",
            "Epoch: 4100 Error: 41.0\n",
            "Epoch: 4200 Error: 42.0\n",
            "Epoch: 4300 Error: 36.0\n",
            "Epoch: 4400 Error: 42.0\n",
            "Epoch: 4500 Error: 46.0\n",
            "Epoch: 4600 Error: 42.0\n",
            "Epoch: 4700 Error: 43.0\n",
            "Epoch: 4800 Error: 37.0\n",
            "Epoch: 4900 Error: 45.0\n",
            "Epoch: 5000 Error: 35.0\n",
            "Epoch: 5100 Error: 45.0\n",
            "Epoch: 5200 Error: 43.0\n",
            "Epoch: 5300 Error: 36.0\n",
            "Epoch: 5400 Error: 37.0\n",
            "Epoch: 5500 Error: 41.0\n",
            "Epoch: 5600 Error: 47.0\n",
            "Epoch: 5700 Error: 41.0\n",
            "Epoch: 5800 Error: 47.0\n",
            "Epoch: 5900 Error: 37.0\n",
            "Epoch: 6000 Error: 37.0\n",
            "Epoch: 6100 Error: 29.0\n",
            "Epoch: 6200 Error: 33.0\n",
            "Epoch: 6300 Error: 37.0\n",
            "Epoch: 6400 Error: 38.0\n",
            "Epoch: 6500 Error: 35.0\n",
            "Epoch: 6600 Error: 43.0\n",
            "Epoch: 6700 Error: 43.0\n",
            "Epoch: 6800 Error: 39.0\n",
            "Epoch: 6900 Error: 34.0\n",
            "Epoch: 6999 Error: 37.0\n",
            "[-4800.299999999932, -35.247789722625726, 30.361102462226572]\n"
          ],
          "name": "stdout"
        }
      ]
    },
    {
      "cell_type": "code",
      "metadata": {
        "id": "M5auUdYc_Tc0",
        "colab": {
          "base_uri": "https://localhost:8080/",
          "height": 282
        },
        "outputId": "c439e1a2-8cab-45b3-af3f-c778887737f4"
      },
      "source": [
        "# Q2_graded\n",
        "# Do not change the above line.\n",
        "\n",
        "plt.plot(x_errplot, y_errplot)\n",
        "plt.plot(x_errplot, y_accplot)\n",
        "plt.legend(['error', 'accuracy'])\n"
      ],
      "execution_count": 99,
      "outputs": [
        {
          "output_type": "execute_result",
          "data": {
            "text/plain": [
              "<matplotlib.legend.Legend at 0x7fea78f504d0>"
            ]
          },
          "metadata": {
            "tags": []
          },
          "execution_count": 99
        },
        {
          "output_type": "display_data",
          "data": {
            "image/png": "[encoded data removed]",
            "text/plain": [
              "<Figure size 432x288 with 1 Axes>"
            ]
          },
          "metadata": {
            "tags": [],
            "needs_background": "light"
          }
        }
      ]
    },
    {
      "cell_type": "code",
      "metadata": {
        "colab": {
          "base_uri": "https://localhost:8080/",
          "height": 282
        },
        "id": "ead3idxRJGbU",
        "outputId": "76f97346-3d60-40ea-e623-15cc8de15846"
      },
      "source": [
        "# Q2_graded\n",
        "plt.scatter(x_coordinates, y_coordinates, color=label)\n",
        "x = np.linspace(np.amin(x_coordinates), np.amax(x_coordinates))\n",
        "y = (-weights[1] * x - 2*weights[0]) / weights[2]\n",
        "\n",
        "plt.plot(x, y)\n"
      ],
      "execution_count": 100,
      "outputs": [
        {
          "output_type": "execute_result",
          "data": {
            "text/plain": [
              "[<matplotlib.lines.Line2D at 0x7feabc2e9b90>]"
            ]
          },
          "metadata": {
            "tags": []
          },
          "execution_count": 100
        },
        {
          "output_type": "display_data",
          "data": {
            "image/png": "[encoded data removed]",
            "text/plain": [
              "<Figure size 432x288 with 1 Axes>"
            ]
          },
          "metadata": {
            "tags": [],
            "needs_background": "light"
          }
        }
      ]
    },
    {
      "cell_type": "markdown",
      "metadata": {
        "id": "gMWCmByc-7H5"
      },
      "source": [
        "# Q4. MLP"
      ]
    },
    {
      "cell_type": "code",
      "metadata": {
        "id": "wpWMwI6z--GX"
      },
      "source": [
        "# Q4_graded\n",
        "# Do not change the above line.\n",
        "\n",
        "# This cell is for your imports.\n",
        "\n",
        "from keras.layers import *\n",
        "from keras.optimizers import *\n",
        "from keras.models import Sequential\n",
        "from keras.datasets import mnist\n",
        "import numpy as np\n",
        "import matplotlib.pyplot as plt\n",
        "import keras\n",
        "from keras import Model"
      ],
      "execution_count": 101,
      "outputs": []
    },
    {
      "cell_type": "code",
      "metadata": {
        "id": "kTmDh0Tw_Tuy",
        "colab": {
          "base_uri": "https://localhost:8080/"
        },
        "outputId": "cc5e6382-345d-4589-d85c-3f55531a1db5"
      },
      "source": [
        "# Q4_graded\n",
        "# Do not change the above line.\n",
        "\n",
        "# This cell is for your codes.\n",
        "\n",
        "(x_train, y_train), (x_test, y_test) = mnist.load_data()\n",
        "num_classes = 10\n",
        "x_train = x_train.reshape((x_train.shape[0], 784))\n",
        "x_test = x_test.reshape((x_test.shape[0], 784))\n",
        "y_train = keras.utils.to_categorical(y_train, num_classes)\n",
        "y_test = keras.utils.to_categorical(y_test, num_classes)\n",
        "\n",
        "visible = Input(shape=x_train[0].shape)\n",
        "layer = Dense(units=400, activation='relu')(visible)\n",
        "layer = Dense(units=200, activation='relu')(layer)\n",
        "layer = Dense(units=50, activation='relu')(layer)\n",
        "layer = Dense(units=num_classes, activation='softmax')(layer)\n",
        "model = Model(inputs=visible, outputs=layer)\n",
        "\n",
        "model.summary()\n",
        "\n",
        "model.compile(loss='categorical_crossentropy', optimizer='adam', metrics=['accuracy'])\n",
        "\n",
        "history = model.fit(x_train, y_train,\n",
        "                    batch_size=250,\n",
        "                    epochs=20,\n",
        "                    validation_data=(x_test, y_test))\n",
        "\n",
        "print(history.history.keys())"
      ],
      "execution_count": 102,
      "outputs": [
        {
          "output_type": "stream",
          "text": [
            "Model: \"model_1\"\n",
            "_________________________________________________________________\n",
            "Layer (type)                 Output Shape              Param #   \n",
            "=================================================================\n",
            "input_2 (InputLayer)         [(None, 784)]             0         \n",
            "_________________________________________________________________\n",
            "dense_4 (Dense)              (None, 400)               314000    \n",
            "_________________________________________________________________\n",
            "dense_5 (Dense)              (None, 200)               80200     \n",
            "_________________________________________________________________\n",
            "dense_6 (Dense)              (None, 50)                10050     \n",
            "_________________________________________________________________\n",
            "dense_7 (Dense)              (None, 10)                510       \n",
            "=================================================================\n",
            "Total params: 404,760\n",
            "Trainable params: 404,760\n",
            "Non-trainable params: 0\n",
            "_________________________________________________________________\n",
            "Epoch 1/20\n",
            "240/240 [==============================] - 4s 16ms/step - loss: 5.2539 - accuracy: 0.3249 - val_loss: 1.0704 - val_accuracy: 0.6525\n",
            "Epoch 2/20\n",
            "240/240 [==============================] - 4s 15ms/step - loss: 0.9614 - accuracy: 0.6746 - val_loss: 0.5018 - val_accuracy: 0.8425\n",
            "Epoch 3/20\n",
            "240/240 [==============================] - 4s 15ms/step - loss: 0.4204 - accuracy: 0.8730 - val_loss: 0.2862 - val_accuracy: 0.9278\n",
            "Epoch 4/20\n",
            "240/240 [==============================] - 4s 15ms/step - loss: 0.2268 - accuracy: 0.9334 - val_loss: 0.2430 - val_accuracy: 0.9418\n",
            "Epoch 5/20\n",
            "240/240 [==============================] - 4s 15ms/step - loss: 0.1606 - accuracy: 0.9505 - val_loss: 0.2066 - val_accuracy: 0.9502\n",
            "Epoch 6/20\n",
            "240/240 [==============================] - 4s 15ms/step - loss: 0.1185 - accuracy: 0.9647 - val_loss: 0.1808 - val_accuracy: 0.9571\n",
            "Epoch 7/20\n",
            "240/240 [==============================] - 4s 15ms/step - loss: 0.0881 - accuracy: 0.9738 - val_loss: 0.1703 - val_accuracy: 0.9609\n",
            "Epoch 8/20\n",
            "240/240 [==============================] - 4s 15ms/step - loss: 0.0770 - accuracy: 0.9769 - val_loss: 0.1577 - val_accuracy: 0.9659\n",
            "Epoch 9/20\n",
            "240/240 [==============================] - 4s 16ms/step - loss: 0.0663 - accuracy: 0.9794 - val_loss: 0.1658 - val_accuracy: 0.9655\n",
            "Epoch 10/20\n",
            "240/240 [==============================] - 4s 16ms/step - loss: 0.0547 - accuracy: 0.9828 - val_loss: 0.1693 - val_accuracy: 0.9664\n",
            "Epoch 11/20\n",
            "240/240 [==============================] - 4s 15ms/step - loss: 0.0494 - accuracy: 0.9848 - val_loss: 0.1595 - val_accuracy: 0.9684\n",
            "Epoch 12/20\n",
            "240/240 [==============================] - 4s 15ms/step - loss: 0.0480 - accuracy: 0.9864 - val_loss: 0.1411 - val_accuracy: 0.9718\n",
            "Epoch 13/20\n",
            "240/240 [==============================] - 4s 15ms/step - loss: 0.0421 - accuracy: 0.9875 - val_loss: 0.1953 - val_accuracy: 0.9638\n",
            "Epoch 14/20\n",
            "240/240 [==============================] - 4s 15ms/step - loss: 0.0361 - accuracy: 0.9888 - val_loss: 0.1562 - val_accuracy: 0.9669\n",
            "Epoch 15/20\n",
            "240/240 [==============================] - 4s 15ms/step - loss: 0.0418 - accuracy: 0.9881 - val_loss: 0.1677 - val_accuracy: 0.9622\n",
            "Epoch 16/20\n",
            "240/240 [==============================] - 4s 15ms/step - loss: 0.0416 - accuracy: 0.9871 - val_loss: 0.1623 - val_accuracy: 0.9724\n",
            "Epoch 17/20\n",
            "240/240 [==============================] - 4s 15ms/step - loss: 0.0295 - accuracy: 0.9908 - val_loss: 0.1513 - val_accuracy: 0.9734\n",
            "Epoch 18/20\n",
            "240/240 [==============================] - 4s 15ms/step - loss: 0.0318 - accuracy: 0.9906 - val_loss: 0.1701 - val_accuracy: 0.9703\n",
            "Epoch 19/20\n",
            "240/240 [==============================] - 4s 15ms/step - loss: 0.0329 - accuracy: 0.9903 - val_loss: 0.1446 - val_accuracy: 0.9726\n",
            "Epoch 20/20\n",
            "240/240 [==============================] - 4s 15ms/step - loss: 0.0284 - accuracy: 0.9918 - val_loss: 0.1426 - val_accuracy: 0.9721\n",
            "dict_keys(['loss', 'accuracy', 'val_loss', 'val_accuracy'])\n"
          ],
          "name": "stdout"
        }
      ]
    },
    {
      "cell_type": "code",
      "metadata": {
        "id": "frBeD-ka_UAJ",
        "colab": {
          "base_uri": "https://localhost:8080/",
          "height": 573
        },
        "outputId": "fede7db8-a22c-4894-bd66-3852787f9262"
      },
      "source": [
        "# Q4_graded\n",
        "# Do not change the above line.\n",
        "\n",
        "\n",
        "# summarize history for accuracy\n",
        "plt.plot(history.history['accuracy'])\n",
        "plt.plot(history.history['val_accuracy'])\n",
        "plt.title('Accuracy Plot')\n",
        "plt.ylabel('accuracy')\n",
        "plt.xlabel('epoch')\n",
        "plt.legend(['train', 'test'])\n",
        "plt.show()\n",
        "# summarize history for loss\n",
        "plt.plot(history.history['loss'])\n",
        "plt.plot(history.history['val_loss'])\n",
        "plt.title('Loss Plot')\n",
        "plt.ylabel('loss')\n",
        "plt.xlabel('epoch')\n",
        "plt.legend(['train', 'test'])\n",
        "plt.show()\n",
        "# This cell is for your codes."
      ],
      "execution_count": 103,
      "outputs": [
        {
          "output_type": "display_data",
          "data": {
            "image/png": "[encoded data removed]",
            "text/plain": [
              "<Figure size 432x288 with 1 Axes>"
            ]
          },
          "metadata": {
            "tags": [],
            "needs_background": "light"
          }
        },
        {
          "output_type": "display_data",
          "data": {
            "image/png": "[encoded data removed]",
            "text/plain": [
              "<Figure size 432x288 with 1 Axes>"
            ]
          },
          "metadata": {
            "tags": [],
            "needs_background": "light"
          }
        }
      ]
    },
    {
      "cell_type": "markdown",
      "metadata": {
        "id": "XYu2rMtB_FxI"
      },
      "source": [
        "# Q5. Back-Propagation"
      ]
    },
    {
      "cell_type": "code",
      "metadata": {
        "id": "zbCqds5p_Gx2"
      },
      "source": [
        "# Q5_graded\n",
        "# Do not change the above line.\n",
        "\n",
        "# This cell is for your imports\n",
        "\n",
        "import numpy as np\n",
        "import matplotlib.pyplot as plt\n",
        "from keras.datasets import mnist"
      ],
      "execution_count": 104,
      "outputs": []
    },
    {
      "cell_type": "code",
      "metadata": {
        "id": "_DkIgkeD_Ubv"
      },
      "source": [
        "# Q5_graded\n",
        "# Do not change the above line.\n",
        "def init_params():\n",
        "    W1 = np.random.rand(10, 784) - 0.5\n",
        "    b1 = np.random.rand(10, 1) - 0.5\n",
        "    W2 = np.random.rand(10, 10) - 0.5\n",
        "    b2 = np.random.rand(10, 1) - 0.5\n",
        "    return W1, b1, W2, b2\n",
        "\n",
        "def ReLU(Z):\n",
        "    return np.maximum(Z, 0)\n",
        "\n",
        "def softmax(Z):\n",
        "    A = np.exp(Z) / sum(np.exp(Z))\n",
        "    return A\n",
        "    \n",
        "def forward(W1, b1, W2, b2, X):\n",
        "    Z1 = W1.dot(X) + b1\n",
        "    A1 = ReLU(Z1)\n",
        "    Z2 = W2.dot(A1) + b2\n",
        "    A2 = softmax(Z2)\n",
        "    return Z1, A1, Z2, A2\n",
        "\n",
        "def ReLU_deriv(Z):\n",
        "    return (Z > 0).astype(int) \n",
        "\n",
        "def one_hot(Y):\n",
        "    one_hot_Y = np.zeros((Y.size, Y.max() + 1))\n",
        "    one_hot_Y[np.arange(Y.size), Y] = 1\n",
        "    one_hot_Y = one_hot_Y.T\n",
        "    return one_hot_Y\n",
        "\n",
        "def backward(Z1, A1, Z2, A2, W1, W2, X, Y):\n",
        "    one_hot_Y = one_hot(Y)\n",
        "    dZ2 = A2 - one_hot_Y\n",
        "    dW2 = 1 / m * dZ2.dot(A1.T)\n",
        "    db2 = 1 / m * np.sum(dZ2)\n",
        "    dZ1 = W2.T.dot(dZ2) * ReLU_deriv(Z1)\n",
        "    dW1 = 1 / m * dZ1.dot(X.T)\n",
        "    db1 = 1 / m * np.sum(dZ1)\n",
        "    return dW1, db1, dW2, db2\n",
        "\n",
        "def update(W1, b1, W2, b2, dW1, db1, dW2, db2, alpha):\n",
        "    W1 = W1 - alpha * dW1\n",
        "    b1 = b1 - alpha * db1    \n",
        "    W2 = W2 - alpha * dW2  \n",
        "    b2 = b2 - alpha * db2\n",
        "    return W1, b1, W2, b2\n",
        "\n",
        "def train(X, Y, alpha, epochs):\n",
        "    W1, b1, W2, b2 = init_params()\n",
        "    for i in range(epochs):\n",
        "        Z1, A1, Z2, A2 = forward(W1, b1, W2, b2, X)\n",
        "        dW1, db1, dW2, db2 = backward(Z1, A1, Z2, A2, W1, W2, X, Y)\n",
        "        W1, b1, W2, b2 = update(W1, b1, W2, b2, dW1, db1, dW2, db2, alpha)\n",
        "\n",
        "        if i % 10 == 0 or i==epochs - 1:\n",
        "            print(\"Epoch:\", i, \"    Accuracy on training data:\", \n",
        "                  np.sum(np.argmax(A2, 0) == Y) / Y.size)\n",
        "    return W1, b1, W2, b2\n"
      ],
      "execution_count": 105,
      "outputs": []
    },
    {
      "cell_type": "code",
      "metadata": {
        "id": "dVLmzv43_UrQ",
        "colab": {
          "base_uri": "https://localhost:8080/"
        },
        "outputId": "21a99e47-0c6c-4bfc-f974-9b8c378060c0"
      },
      "source": [
        "# Q5_graded\n",
        "# Do not change the above line.\n",
        "\n",
        "(x_train, y_train), (x_test, y_test) = mnist.load_data()\n",
        "num_classes = 10\n",
        "x_train = x_train.reshape((x_train.shape[0], 784)) / 255\n",
        "x_test = x_test.reshape((x_test.shape[0], 784)) / 255\n",
        "\n",
        "m, n = x_train.shape\n",
        "learning_rate = 0.1\n",
        "epoch_count = 500\n",
        "\n",
        "W1, b1, W2, b2 = train(x_train.T, y_train.T, learning_rate, epoch_count)"
      ],
      "execution_count": 108,
      "outputs": [
        {
          "output_type": "stream",
          "text": [
            "Epoch: 0     Accuracy on training data: 0.09913333333333334\n",
            "Epoch: 10     Accuracy on training data: 0.18823333333333334\n",
            "Epoch: 20     Accuracy on training data: 0.2866166666666667\n",
            "Epoch: 30     Accuracy on training data: 0.3587\n",
            "Epoch: 40     Accuracy on training data: 0.40765\n",
            "Epoch: 50     Accuracy on training data: 0.4464166666666667\n",
            "Epoch: 60     Accuracy on training data: 0.47986666666666666\n",
            "Epoch: 70     Accuracy on training data: 0.5152\n",
            "Epoch: 80     Accuracy on training data: 0.5454166666666667\n",
            "Epoch: 90     Accuracy on training data: 0.5728166666666666\n",
            "Epoch: 100     Accuracy on training data: 0.5959\n",
            "Epoch: 110     Accuracy on training data: 0.6170333333333333\n",
            "Epoch: 120     Accuracy on training data: 0.6344666666666666\n",
            "Epoch: 130     Accuracy on training data: 0.6508166666666667\n",
            "Epoch: 140     Accuracy on training data: 0.6645333333333333\n",
            "Epoch: 150     Accuracy on training data: 0.6754166666666667\n",
            "Epoch: 160     Accuracy on training data: 0.6855666666666667\n",
            "Epoch: 170     Accuracy on training data: 0.6948166666666666\n",
            "Epoch: 180     Accuracy on training data: 0.7024666666666667\n",
            "Epoch: 190     Accuracy on training data: 0.7098333333333333\n",
            "Epoch: 200     Accuracy on training data: 0.7172333333333333\n",
            "Epoch: 210     Accuracy on training data: 0.72455\n",
            "Epoch: 220     Accuracy on training data: 0.7312333333333333\n",
            "Epoch: 230     Accuracy on training data: 0.7377166666666667\n",
            "Epoch: 240     Accuracy on training data: 0.74445\n",
            "Epoch: 250     Accuracy on training data: 0.7498666666666667\n",
            "Epoch: 260     Accuracy on training data: 0.7563666666666666\n",
            "Epoch: 270     Accuracy on training data: 0.76225\n",
            "Epoch: 280     Accuracy on training data: 0.7682333333333333\n",
            "Epoch: 290     Accuracy on training data: 0.7740833333333333\n",
            "Epoch: 300     Accuracy on training data: 0.77925\n",
            "Epoch: 310     Accuracy on training data: 0.7846166666666666\n",
            "Epoch: 320     Accuracy on training data: 0.7890666666666667\n",
            "Epoch: 330     Accuracy on training data: 0.7946166666666666\n",
            "Epoch: 340     Accuracy on training data: 0.7995666666666666\n",
            "Epoch: 350     Accuracy on training data: 0.80375\n",
            "Epoch: 360     Accuracy on training data: 0.8073333333333333\n",
            "Epoch: 370     Accuracy on training data: 0.8109833333333333\n",
            "Epoch: 380     Accuracy on training data: 0.8142666666666667\n",
            "Epoch: 390     Accuracy on training data: 0.8177333333333333\n",
            "Epoch: 400     Accuracy on training data: 0.8204666666666667\n",
            "Epoch: 410     Accuracy on training data: 0.8230166666666666\n",
            "Epoch: 420     Accuracy on training data: 0.8252166666666667\n",
            "Epoch: 430     Accuracy on training data: 0.8273\n",
            "Epoch: 440     Accuracy on training data: 0.8292333333333334\n",
            "Epoch: 450     Accuracy on training data: 0.8310166666666666\n",
            "Epoch: 460     Accuracy on training data: 0.8326333333333333\n",
            "Epoch: 470     Accuracy on training data: 0.8344666666666667\n",
            "Epoch: 480     Accuracy on training data: 0.8364833333333334\n",
            "Epoch: 490     Accuracy on training data: 0.83815\n",
            "Epoch: 499     Accuracy on training data: 0.8392666666666667\n"
          ],
          "name": "stdout"
        }
      ]
    },
    {
      "cell_type": "code",
      "metadata": {
        "colab": {
          "base_uri": "https://localhost:8080/"
        },
        "id": "8HtGtvAtOb7m",
        "outputId": "93e2ae9d-c216-4227-9699-48968b7ae978"
      },
      "source": [
        "# Q5_graded\n",
        "# Do not change the above line.\n",
        "\n",
        "_, _, _, result = forward(W1, b1, W2, b2, x_test.T)\n",
        "predictions = np.argmax(result, 0)\n",
        "final = np.sum(predictions == y_test) / y_test.size\n",
        "print(\"Accuracy on training data:\", final)\n"
      ],
      "execution_count": 109,
      "outputs": [
        {
          "output_type": "stream",
          "text": [
            "Accuracy on training data: 0.8475\n"
          ],
          "name": "stdout"
        }
      ]
    },
    {
      "cell_type": "markdown",
      "metadata": {
        "id": "iRqYhKw1rgUp"
      },
      "source": [
        "# <font color='red'>Submission</font>\n",
        "\n",
        "1. Sign up in [Gradescope](https://www.gradescope.com) with proper name and student ID and use the following code to join the class: <font color='red'>**D5372R**</font>\n",
        "2. Fill in your full name (seperated by single spaces) and student ID in the beginning of this notebook.\n",
        "3. After you're done with this notebook, you should do the following:\n",
        "  - Clear all outputs of the notebook.\n",
        "  ![clear all outputs](https://i.ibb.co/y6FrttB/Screen-Shot-2021-03-21-at-01-51-42.png)\n",
        "  - Run all of the cells (if you skipped a question just leave the cell unchanged), and make sure all of your outputs are correct.\n",
        "  ![run all](https://i.ibb.co/cgRcBZ0/Screen-Shot-2021-03-21-at-01-54-58.png)\n",
        "  - Save your notebook.\n",
        "  \n",
        "  - If you're using Colab, download your notebook.\n",
        "  ![download ipynb](https://i.ibb.co/2KxYM6K/Screen-Shot-2021-03-21-at-02-03-50.png)\n",
        "  \n",
        "  - Put the notebook file you just downloaded and `convert.py` in the same folder run the following command:\n",
        "  ```bash\n",
        "  python convert.py\n",
        "  ```\n",
        "  This will export your code for each question into a `.py` file.\n",
        "    - **Note**: if you want to add more cells, add this to the **first** line of the cell:\n",
        "  ```python\n",
        "  # Q5_graded\n",
        "  ```\n",
        "  according to the question number.\n",
        "  - There are 2 assignments in Gradescope:\n",
        "\n",
        "    ![assignments](https://i.ibb.co/10GMhGM/Screen-Shot-2021-03-21-at-02-16-25.png)\n",
        "  \n",
        "    You should upload your **codes** and your **notebook** in `HW1` section and your final report for all of the questions as a **single pdf** file in `HW1 - Report`. Autograder will automatically check for:\n",
        "    - `CI992_HW1.ipynb`\n",
        "    - `Q1.py`\n",
        "    - `Q2.py`\n",
        "    - `Q4.py`\n",
        "    - `Q5.py`\n",
        "    - Your name and ID in the beginning of `.ipynb` file.\n",
        "\n",
        "    It is important that you <font color='red'>**don't**</font> change the names of these files before submission.\n",
        "\n",
        "4. If you pass the autograder, you're good to go."
      ]
    },
    {
      "cell_type": "code",
      "metadata": {
        "id": "2kWY9n7oosvN"
      },
      "source": [
        ""
      ],
      "execution_count": 107,
      "outputs": []
    }
  ]
}