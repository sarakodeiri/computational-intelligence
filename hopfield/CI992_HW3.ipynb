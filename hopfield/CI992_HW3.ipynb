{
 "cells": [
  {
   "cell_type": "markdown",
   "metadata": {
    "id": "heBxPYfc0U22"
   },
   "source": [
    "# Your info\n",
    "\n",
    "Full name: Sara Kodeiri\n",
    "\n",
    "Student ID: 96521443"
   ]
  },
  {
   "cell_type": "markdown",
   "metadata": {
    "id": "UBD007b3-ntJ"
   },
   "source": [
    "# Q1. Hopfield"
   ]
  },
  {
   "cell_type": "markdown",
   "metadata": {
    "id": "VAAR47H8-5ML"
   },
   "source": [
    "## Q1.2"
   ]
  },
  {
   "cell_type": "code",
   "execution_count": 76,
   "metadata": {
    "id": "LV7Xa2Sx-6cV"
   },
   "outputs": [],
   "source": [
    "# Q1.2_graded\n",
    "# Do not change the above line.\n",
    "\n",
    "# This cell is for your imports.\n",
    "\n",
    "import numpy as np\n",
    "import matplotlib.pyplot as plt"
   ]
  },
  {
   "cell_type": "code",
   "execution_count": 84,
   "metadata": {
    "id": "bMIDe8oc_TLW"
   },
   "outputs": [
    {
     "name": "stdout",
     "output_type": "stream",
     "text": [
      "[ 1.  1.  1. -1. -1. -1.]\n",
      "[-4.0, -20.0, -4.0, -4.0, -20.0, -4.0, -28.0]\n",
      "[ 1.  1.  1. -1. -1. -1.]\n",
      "[-28.0, 4.0, 4.0, 4.0, 4.0, 4.0, -4.0]\n"
     ]
    }
   ],
   "source": [
    "# Q1.2_graded\n",
    "# Do not change the above line.\n",
    "\n",
    "# This cell is for your codes.\n",
    "\n",
    "patterns = [[1, -1, 1, -1, 1, -1], [1, 1, 1, -1, -1, -1]]\n",
    "patterns = np.array([np.array(a) for a in patterns])\n",
    "\n",
    "dim = 6\n",
    "weights = np.zeros((dim, dim))\n",
    "\n",
    "for pattern in patterns:\n",
    "    ver = np.vstack(pattern)\n",
    "    weights += np.dot(ver, ver.T)\n",
    "    for i in range(dim):\n",
    "        weights[i, i] = 0\n",
    "    \n",
    "def get_energy(pattern):\n",
    "    energy = []\n",
    "    for i in range(len(pattern) + 1):\n",
    "        temp = pattern.copy()\n",
    "        if i<len(pattern):\n",
    "            temp[i] *= -1\n",
    "        ver = np.vstack(temp)\n",
    "        enr = np.sum(np.dot(ver, ver.T) * weights) * -1\n",
    "        energy.append(enr)\n",
    "    return energy\n",
    "\n",
    "new = np.array([-1, 1, 1, -1, -1, -1])\n",
    "result1 = np.sign(np.dot(patterns[1], weights))\n",
    "result2 = np.sign(np.dot(new, weights))\n",
    "\n",
    "print(result1)\n",
    "print(get_energy(patterns[1]))\n",
    "\n",
    "print(result2)\n",
    "print(get_energy(new))"
   ]
  },
  {
   "cell_type": "markdown",
   "metadata": {
    "id": "gMWCmByc-7H5"
   },
   "source": [
    "## Q1.3"
   ]
  },
  {
   "cell_type": "code",
   "execution_count": 46,
   "metadata": {
    "id": "wpWMwI6z--GX"
   },
   "outputs": [
    {
     "name": "stdout",
     "output_type": "stream",
     "text": [
      "PIL 8.0.1\n"
     ]
    }
   ],
   "source": [
    "# Q1.3_graded\n",
    "# Do not change the above line.\n",
    "\n",
    "# This cell is for your imports.\n",
    "\n",
    "import PIL\n",
    "print('PIL',PIL.__version__)"
   ]
  },
  {
   "cell_type": "code",
   "execution_count": 205,
   "metadata": {
    "id": "kTmDh0Tw_Tuy"
   },
   "outputs": [],
   "source": [
    "# Q1.3_graded\n",
    "# Do not change the above line.\n",
    "\n",
    "# This cell is for your codes.\n",
    "\n",
    "from PIL import Image, ImageFont\n",
    "\n",
    "def make_data(font_size):\n",
    "    data = []\n",
    "    font = ImageFont.truetype(\"ARIAL.TTF\", font_size)\n",
    "    max_ = -1\n",
    "    for char in \"ABCDEFGHIJ\":\n",
    "        im = Image.Image()._new(font.getmask(char))\n",
    "        tempmax_ = max(im.size)\n",
    "        if max_ < tempmax_:\n",
    "            max_ = tempmax_\n",
    "    for char in \"ABCDEFGHIJ\":\n",
    "        im = Image.Image()._new(font.getmask(char))\n",
    "        resized = im.resize((max_, max_))\n",
    "        resized.save(f\"{char}_{font_size}.bmp\")\n",
    "        resized = np.array(resized)\n",
    "        \n",
    "        xDim, yDim = resized.shape\n",
    "        for i in range(xDim):\n",
    "            for j in range(yDim):\n",
    "                if (resized[i][j] > 100):\n",
    "                    resized[i][j] = 255\n",
    "                else:\n",
    "                    resized[i][j] = 0\n",
    "        data.append(np.array(resized))\n",
    "    return data\n",
    "\n",
    "def train(data):\n",
    "    dim = data[0].shape\n",
    "    weights = np.zeros(dim)\n",
    "    for pattern in data:\n",
    "        ver = np.vstack(pattern)\n",
    "        weights += np.dot(ver, ver.T)\n",
    "        for i in range(dim[0]):\n",
    "            weights[i, i] = 0\n",
    "    return weights\n",
    "\n",
    "def add_noise(data, percent):\n",
    "    noisy = []\n",
    "    for d in data:\n",
    "        dim = d[0].size\n",
    "        num = int(percent * dim * dim)\n",
    "        temp = d.copy()\n",
    "        \n",
    "        idx0 = np.random.choice(temp.shape[0], num)\n",
    "        idx1 = np.random.choice(temp.shape[1], num)\n",
    "        \n",
    "        for i in range(len(idx0)):\n",
    "            temp[idx0[i], idx1[i]] = 255 - temp[idx0[i], idx1[i]]\n",
    "        noisy.append(temp)\n",
    "        \n",
    "    return noisy\n",
    "\n",
    "def compare(og, noisy):\n",
    "    same = 0\n",
    "    for i in range(og.shape[0]):\n",
    "        for j in range(og.shape[1]):\n",
    "            if og[i, j] == noisy[i, j]:\n",
    "                same += 1\n",
    "    acc = 100 * same / (og.shape[0] * og.shape[1])\n",
    "    return acc"
   ]
  },
  {
   "cell_type": "code",
   "execution_count": 212,
   "metadata": {},
   "outputs": [
    {
     "name": "stdout",
     "output_type": "stream",
     "text": [
      "Font size: 16 Noise: 0.1 Accuracy: 89.93055555555554\n",
      "Font size: 16 Noise: 0.3 Accuracy: 76.38888888888889\n",
      "Font size: 16 Noise: 0.6 Accuracy: 64.93055555555554\n",
      "Font size: 32 Noise: 0.1 Accuracy: 90.16\n",
      "Font size: 32 Noise: 0.3 Accuracy: 77.44\n",
      "Font size: 32 Noise: 0.6 Accuracy: 65.92\n",
      "Font size: 64 Noise: 0.1 Accuracy: 90.6\n",
      "Font size: 64 Noise: 0.3 Accuracy: 77.58\n",
      "Font size: 64 Noise: 0.6 Accuracy: 64.69999999999999\n"
     ]
    }
   ],
   "source": [
    "# Q1.3_graded\n",
    "# Do not change the above line.\n",
    "size = [16, 32, 64]\n",
    "noise = [.1, .3, .6]\n",
    "\n",
    "for s in size:\n",
    "    for n in noise:   \n",
    "        acc = []\n",
    "        data = make_data(s)\n",
    "        weights = train(data)\n",
    "        noisy = add_noise(data, n)\n",
    "\n",
    "        for i in range(len(noisy)):\n",
    "            result_p = np.sign(noisy[i] * weights) * 255\n",
    "\n",
    "            acc.append(compare(data[i], result_p))\n",
    "\n",
    "        facc = np.median(acc)\n",
    "        print(\"Font size:\", s, \"Noise:\", n, \"Accuracy:\", facc)\n",
    "        "
   ]
  },
  {
   "cell_type": "markdown",
   "metadata": {
    "id": "iRqYhKw1rgUp"
   },
   "source": [
    "# <font color='red'>Submission</font>\n",
    "\n",
    "1. Sign up in [Gradescope](https://www.gradescope.com) with proper name and student ID and use the following code to join the class: <font color='green'>**D5372R**</font>\n",
    "2. Fill in your full name (seperated by single spaces) and student ID in the beginning of this notebook.\n",
    "3. After you're done with this notebook, you should do the following:\n",
    "  - Clear all outputs of the notebook.\n",
    "  ![clear all outputs](https://i.ibb.co/y6FrttB/Screen-Shot-2021-03-21-at-01-51-42.png)\n",
    "  - Run all of the cells (if you skipped a question just leave the cell unchanged), and make sure all of your outputs are correct.\n",
    "  ![run all](https://i.ibb.co/cgRcBZ0/Screen-Shot-2021-03-21-at-01-54-58.png)\n",
    "  - Save your notebook.\n",
    "  - If you're using Colab, download your notebook.\n",
    "  ![download ipynb](https://i.ibb.co/2KxYM6K/Screen-Shot-2021-03-21-at-02-03-50.png)\n",
    "  - Put the notebook file you just downloaded and `convert.py` in the same folder run the following command:\n",
    "  ```bash\n",
    "  python convert.py\n",
    "  ```\n",
    "  This will export your code for each question into a `.py` file.\n",
    "    - **Note**: if you want to add more cells, add this to the **first** line of the cell:\n",
    "  ```python\n",
    "  # Q5_graded\n",
    "  ```\n",
    "  according to the question number.\n",
    "  - There are 2 assignments in Gradescope:\n",
    "\n",
    "    ![assignments](https://i.ibb.co/10GMhGM/Screen-Shot-2021-03-21-at-02-16-25.png)\n",
    "  \n",
    "    You should upload your **codes** and your **notebook** in `HW3` section and your final report for all of the questions as a **single pdf** file in `HW3 - Report`. Autograder will automatically check for:\n",
    "    - `CI992_HW3.ipynb`\n",
    "    - `Q1.2.py`\n",
    "    - `Q1.3.py`\n",
    "    - `inverted_pendulum.fcl`\n",
    "    - Your name and ID in the beginning of `.ipynb` file.\n",
    "\n",
    "    It is important that you <font color='red'>**don't**</font> change the names of these files before submission.\n",
    "\n",
    "4. If you pass the autograder, you're good to go."
   ]
  },
  {
   "cell_type": "code",
   "execution_count": null,
   "metadata": {
    "id": "8ncvGuBu6f2e"
   },
   "outputs": [],
   "source": []
  }
 ],
 "metadata": {
  "colab": {
   "collapsed_sections": [],
   "name": "CI992_HW3.ipynb",
   "provenance": []
  },
  "kernelspec": {
   "display_name": "Python 3",
   "language": "python",
   "name": "python3"
  },
  "language_info": {
   "codemirror_mode": {
    "name": "ipython",
    "version": 3
   },
   "file_extension": ".py",
   "mimetype": "text/x-python",
   "name": "python",
   "nbconvert_exporter": "python",
   "pygments_lexer": "ipython3",
   "version": "3.8.5"
  }
 },
 "nbformat": 4,
 "nbformat_minor": 1
}
